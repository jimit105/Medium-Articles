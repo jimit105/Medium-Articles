{
 "cells": [
  {
   "cell_type": "markdown",
   "metadata": {},
   "source": [
    "# Creating RESTful APIs using Flask and Python"
   ]
  },
  {
   "cell_type": "markdown",
   "metadata": {},
   "source": [
    "## Medium Article Link: <https://medium.com/p/655bad51b24>"
   ]
  },
  {
   "cell_type": "markdown",
   "metadata": {},
   "source": [
    "## Minimal Flask App"
   ]
  },
  {
   "cell_type": "markdown",
   "metadata": {},
   "source": [
    "```python\n",
    "from flask import Flask\n",
    "\n",
    "app = Flask(__name__)\n",
    "\n",
    "@app.route('/hello/', methods=['GET', 'POST'])\n",
    "def welcome():\n",
    "    return \"Hello World!\"\n",
    "\n",
    "if __name__ == '__main__':\n",
    "    app.run(host='0.0.0.0', port=105)\n",
    "```"
   ]
  },
  {
   "cell_type": "markdown",
   "metadata": {},
   "source": [
    "## Variable Rules"
   ]
  },
  {
   "cell_type": "markdown",
   "metadata": {},
   "source": [
    "```python\n",
    "from flask import Flask\n",
    "\n",
    "app = Flask(__name__)\n",
    "\n",
    "@app.route('/<int:number>/')\n",
    "def incrementer(number):\n",
    "    return \"Incremented number is \" + str(number+1)\n",
    "\n",
    "@app.route('/<string:name>/')\n",
    "def hello(name):\n",
    "    return \"Hello \" + name\n",
    "\n",
    "app.run()\n",
    "```"
   ]
  },
  {
   "cell_type": "markdown",
   "metadata": {},
   "source": [
    "## Return JSON Serializable Output"
   ]
  },
  {
   "cell_type": "markdown",
   "metadata": {},
   "source": [
    "```python\n",
    "from flask import jsonify\n",
    "\n",
    "@app.route('/person/')\n",
    "def hello():\n",
    "    return jsonify({'name':'Jimit',\n",
    "                    'address':'India'})\n",
    "```"
   ]
  },
  {
   "cell_type": "markdown",
   "metadata": {},
   "source": [
    "```python\n",
    "from flask import jsonify\n",
    "\n",
    "@app.route('/numbers/')\n",
    "def print_list():\n",
    "    return jsonify(list(range(5)))\n",
    "```"
   ]
  },
  {
   "cell_type": "markdown",
   "metadata": {},
   "source": [
    "## Redirection Behaviour"
   ]
  },
  {
   "cell_type": "markdown",
   "metadata": {},
   "source": [
    "```python\n",
    "@app.route('/home/')\n",
    "def home():\n",
    "    return \"Home page\"\n",
    "\n",
    "@app.route('/contact')\n",
    "def contact():\n",
    "    return \"Contact page\"\n",
    "```"
   ]
  },
  {
   "cell_type": "markdown",
   "metadata": {},
   "source": [
    "## Return Status Code"
   ]
  },
  {
   "cell_type": "markdown",
   "metadata": {},
   "source": [
    "```python\n",
    "@app.route('/teapot/')\n",
    "def teapot():\n",
    "    return \"Would you like some tea?\", 418\n",
    "```"
   ]
  },
  {
   "cell_type": "markdown",
   "metadata": {},
   "source": [
    "## Before Request"
   ]
  },
  {
   "cell_type": "markdown",
   "metadata": {},
   "source": [
    "```python\n",
    "@app.before_request\n",
    "def before():\n",
    "    print(\"This is executed BEFORE each request.\")\n",
    "    \n",
    "@app.route('/hello/')\n",
    "def hello():\n",
    "    return \"Hello World!\"\n",
    "```"
   ]
  },
  {
   "cell_type": "markdown",
   "metadata": {},
   "source": [
    "## Blueprints"
   ]
  },
  {
   "cell_type": "markdown",
   "metadata": {},
   "source": [
    "### home.py"
   ]
  },
  {
   "cell_type": "markdown",
   "metadata": {},
   "source": [
    "```python\n",
    "from flask import Blueprint\n",
    "\n",
    "home_bp = Blueprint('home', __name__)\n",
    "\n",
    "@home_bp.route('/hello/')\n",
    "def hello():\n",
    "    return \"Hello from Home Page\"\n",
    "```"
   ]
  },
  {
   "cell_type": "markdown",
   "metadata": {},
   "source": [
    "### contact.py"
   ]
  },
  {
   "cell_type": "markdown",
   "metadata": {},
   "source": [
    "```python\n",
    "from flask import Blueprint\n",
    "\n",
    "contact_bp = Blueprint('contact', __name__)\n",
    "\n",
    "@contact_bp.route('/hello/')\n",
    "def hello():\n",
    "    return \"Hello from Contact Page\"\n",
    "```"
   ]
  },
  {
   "cell_type": "markdown",
   "metadata": {},
   "source": [
    "### app.py"
   ]
  },
  {
   "cell_type": "markdown",
   "metadata": {},
   "source": [
    "```python\n",
    "from flask import Flask\n",
    "\n",
    "from home import home_bp\n",
    "from contact import contact_bp\n",
    "\n",
    "app = Flask(__name__)\n",
    "\n",
    "app.register_blueprint(home_bp, url_prefix='/home')\n",
    "app.register_blueprint(contact_bp, url_prefix='/contact')\n",
    "\n",
    "app.run()\n",
    "```"
   ]
  },
  {
   "cell_type": "markdown",
   "metadata": {},
   "source": [
    "## Logging"
   ]
  },
  {
   "cell_type": "markdown",
   "metadata": {},
   "source": [
    "```python\n",
    "app.logger.debug('This is a DEBUG message')\n",
    "app.logger.info('This is an INFO message')\n",
    "app.logger.warning('This is a WARNING message')\n",
    "app.logger.error('This is an ERROR message')\n",
    "```"
   ]
  }
 ],
 "metadata": {
  "kernelspec": {
   "display_name": "Python 3",
   "language": "python",
   "name": "python3"
  },
  "language_info": {
   "codemirror_mode": {
    "name": "ipython",
    "version": 3
   },
   "file_extension": ".py",
   "mimetype": "text/x-python",
   "name": "python",
   "nbconvert_exporter": "python",
   "pygments_lexer": "ipython3",
   "version": "3.6.10"
  }
 },
 "nbformat": 4,
 "nbformat_minor": 2
}
