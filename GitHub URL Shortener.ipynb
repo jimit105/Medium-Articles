{
 "cells": [
  {
   "cell_type": "markdown",
   "metadata": {},
   "source": [
    "# GitHub URL Shortener"
   ]
  },
  {
   "cell_type": "markdown",
   "metadata": {},
   "source": [
    "### Medium Article Link: http://medium.com/p/f1e0aeaf83b6"
   ]
  },
  {
   "cell_type": "markdown",
   "metadata": {},
   "source": [
    "## Shorten URL using curl"
   ]
  },
  {
   "cell_type": "markdown",
   "metadata": {},
   "source": [
    "### To create shortened URL\n",
    "\n",
    "```bash\n",
    "curl -i https://git.io -F \"url=GITHUB_URL\"\n",
    "```"
   ]
  },
  {
   "cell_type": "markdown",
   "metadata": {},
   "source": [
    "### To create shortened URL with custom text\n",
    "\n",
    "```bash\n",
    "curl -i https://git.io -F \"url=GITHUB_URL\" -F \"code=CUSTOM_TEXT\"\n",
    "```"
   ]
  },
  {
   "cell_type": "markdown",
   "metadata": {},
   "source": [
    "### To retrieve full URL\n",
    "\n",
    "```bash\n",
    "curl -i https://git.io/SHORTENED-URL\n",
    "```"
   ]
  },
  {
   "cell_type": "markdown",
   "metadata": {},
   "source": [
    "## Shorten URL using Python"
   ]
  },
  {
   "cell_type": "markdown",
   "metadata": {},
   "source": [
    "### To create shortened URL"
   ]
  },
  {
   "cell_type": "markdown",
   "metadata": {},
   "source": [
    "```python\n",
    "import requests\n",
    "\n",
    "url = 'https://git.io/'\n",
    "\n",
    "data = {'url': GITHUB-URL, \n",
    "        'code': CUSTOM-TEXT}\n",
    "\n",
    "r = requests.post(url, data=data)\n",
    "print(r.headers.get('Location'))\n",
    "```"
   ]
  },
  {
   "cell_type": "markdown",
   "metadata": {},
   "source": [
    "### To retrieve full URL"
   ]
  },
  {
   "cell_type": "markdown",
   "metadata": {},
   "source": [
    "```python\n",
    "import requests\n",
    "\n",
    "r = requests.head('https://git.io/SHORTENED-URL')\n",
    "\n",
    "print(r.headers.get('Location'))\n",
    "```"
   ]
  }
 ],
 "metadata": {
  "kernelspec": {
   "display_name": "Python 3",
   "language": "python",
   "name": "python3"
  },
  "language_info": {
   "codemirror_mode": {
    "name": "ipython",
    "version": 3
   },
   "file_extension": ".py",
   "mimetype": "text/x-python",
   "name": "python",
   "nbconvert_exporter": "python",
   "pygments_lexer": "ipython3",
   "version": "3.6.10"
  }
 },
 "nbformat": 4,
 "nbformat_minor": 2
}
