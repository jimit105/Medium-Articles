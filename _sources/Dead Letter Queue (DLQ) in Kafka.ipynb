{
 "cells": [
  {
   "cell_type": "markdown",
   "metadata": {},
   "source": [
    "# Dead Letter Queue (DLQ) in Kafka"
   ]
  },
  {
   "cell_type": "markdown",
   "metadata": {},
   "source": [
    "## Medium Article Link: <https://medium.com/p/29418e0ec6cf>"
   ]
  },
  {
   "cell_type": "markdown",
   "metadata": {},
   "source": [
    "## Installation"
   ]
  },
  {
   "cell_type": "code",
   "execution_count": null,
   "metadata": {},
   "outputs": [],
   "source": [
    "!pip install kafka-python"
   ]
  },
  {
   "cell_type": "markdown",
   "metadata": {},
   "source": [
    "# Implementation"
   ]
  },
  {
   "cell_type": "code",
   "execution_count": 1,
   "metadata": {},
   "outputs": [],
   "source": [
    "from kafka import KafkaProducer, KafkaConsumer\n",
    "import json\n",
    "\n",
    "bootstrap_servers = ['localhost:9092']\n",
    "primary_topic = 'primary-topic-name'\n",
    "dlq_topic = 'dlq-topic-name'"
   ]
  },
  {
   "cell_type": "code",
   "execution_count": 2,
   "metadata": {},
   "outputs": [],
   "source": [
    "dlq_producer = KafkaProducer(\n",
    "    bootstrap_servers=bootstrap_servers,\n",
    "    value_serializer=lambda x: x.encode('utf-8'),\n",
    "    acks='all'\n",
    ")"
   ]
  },
  {
   "cell_type": "code",
   "execution_count": 3,
   "metadata": {},
   "outputs": [],
   "source": [
    "consumer = KafkaConsumer(\n",
    "    primary_topic,\n",
    "    bootstrap_servers=bootstrap_servers,\n",
    "    auto_offset_reset='latest',\n",
    "    enable_auto_commit=True,\n",
    "    value_deserializer=lambda x: x.decode('utf-8')\n",
    ")"
   ]
  },
  {
   "cell_type": "code",
   "execution_count": 4,
   "metadata": {},
   "outputs": [
    {
     "name": "stdout",
     "output_type": "stream",
     "text": [
      "\n",
      "Received:\n",
      "Partition: 0 \tOffset: 542\tValue: {\"test\":\"1\"}\n",
      "Data Received: {'test': '1'}\n",
      "\n",
      "Received:\n",
      "Partition: 0 \tOffset: 543\tValue: test\n",
      "Value test not in JSON format\n",
      "Message sent to DLQ Topic\n"
     ]
    }
   ],
   "source": [
    "for msg in consumer:\n",
    "    print(f'\\nReceived:\\nPartition: {msg.partition} \\tOffset: {msg.offset}\\tValue: {msg.value}')\n",
    "    \n",
    "    try:\n",
    "        data = json.loads(msg.value)\n",
    "        print('Data Received:', data)\n",
    "            \n",
    "    except:\n",
    "        print(f'Value {msg.value} not in JSON format')\n",
    "        dlq_producer.send(dlq_topic, value=msg.value)\n",
    "        print('Message sent to DLQ Topic')\n",
    "        "
   ]
  },
  {
   "cell_type": "markdown",
   "metadata": {},
   "source": [
    "## Reference\n",
    "\n",
    "<https://kafka-python.readthedocs.io/en/master/install.html>"
   ]
  }
 ],
 "metadata": {
  "kernelspec": {
   "display_name": "Python 3",
   "language": "python",
   "name": "python3"
  },
  "language_info": {
   "codemirror_mode": {
    "name": "ipython",
    "version": 3
   },
   "file_extension": ".py",
   "mimetype": "text/x-python",
   "name": "python",
   "nbconvert_exporter": "python",
   "pygments_lexer": "ipython3",
   "version": "3.8.5"
  }
 },
 "nbformat": 4,
 "nbformat_minor": 4
}
