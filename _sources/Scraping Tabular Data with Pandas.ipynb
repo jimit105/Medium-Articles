{
 "cells": [
  {
   "cell_type": "markdown",
   "metadata": {},
   "source": [
    "# Scraping Tabular Data with Pandas"
   ]
  },
  {
   "cell_type": "markdown",
   "metadata": {},
   "source": [
    "## Medium Article Link: <https://medium.com/p/10cf2a133cbf>"
   ]
  },
  {
   "cell_type": "code",
   "execution_count": 1,
   "metadata": {},
   "outputs": [],
   "source": [
    "import pandas as pd\n",
    "url = 'https://en.wikipedia.org/wiki/The_World%27s_Billionaires'"
   ]
  },
  {
   "cell_type": "code",
   "execution_count": 2,
   "metadata": {},
   "outputs": [],
   "source": [
    "df_list = pd.read_html(url)"
   ]
  },
  {
   "cell_type": "code",
   "execution_count": 3,
   "metadata": {},
   "outputs": [
    {
     "data": {
      "text/plain": [
       "list"
      ]
     },
     "execution_count": 3,
     "metadata": {},
     "output_type": "execute_result"
    }
   ],
   "source": [
    "# pd.read_html returns list\n",
    "type(df_list)"
   ]
  },
  {
   "cell_type": "code",
   "execution_count": 4,
   "metadata": {},
   "outputs": [
    {
     "data": {
      "text/plain": [
       "32"
      ]
     },
     "execution_count": 4,
     "metadata": {},
     "output_type": "execute_result"
    }
   ],
   "source": [
    "# Total number of tables found\n",
    "len(df_list)"
   ]
  },
  {
   "cell_type": "code",
   "execution_count": 5,
   "metadata": {},
   "outputs": [
    {
     "data": {
      "text/html": [
       "<div>\n",
       "<style scoped>\n",
       "    .dataframe tbody tr th:only-of-type {\n",
       "        vertical-align: middle;\n",
       "    }\n",
       "\n",
       "    .dataframe tbody tr th {\n",
       "        vertical-align: top;\n",
       "    }\n",
       "\n",
       "    .dataframe thead th {\n",
       "        text-align: right;\n",
       "    }\n",
       "</style>\n",
       "<table border=\"1\" class=\"dataframe\">\n",
       "  <thead>\n",
       "    <tr style=\"text-align: right;\">\n",
       "      <th></th>\n",
       "      <th>No.</th>\n",
       "      <th>Name</th>\n",
       "      <th>Net worth (USD)</th>\n",
       "      <th>Age</th>\n",
       "      <th>Nationality</th>\n",
       "      <th>Source(s) of wealth</th>\n",
       "    </tr>\n",
       "  </thead>\n",
       "  <tbody>\n",
       "    <tr>\n",
       "      <th>0</th>\n",
       "      <td>1</td>\n",
       "      <td>Jeff Bezos</td>\n",
       "      <td>$113 billion</td>\n",
       "      <td>56</td>\n",
       "      <td>United States</td>\n",
       "      <td>Amazon</td>\n",
       "    </tr>\n",
       "    <tr>\n",
       "      <th>1</th>\n",
       "      <td>2</td>\n",
       "      <td>Bill Gates</td>\n",
       "      <td>$98 billion</td>\n",
       "      <td>64</td>\n",
       "      <td>United States</td>\n",
       "      <td>Microsoft</td>\n",
       "    </tr>\n",
       "    <tr>\n",
       "      <th>2</th>\n",
       "      <td>3</td>\n",
       "      <td>Bernard Arnault and family</td>\n",
       "      <td>$76 billion</td>\n",
       "      <td>71</td>\n",
       "      <td>France</td>\n",
       "      <td>LVMH</td>\n",
       "    </tr>\n",
       "    <tr>\n",
       "      <th>3</th>\n",
       "      <td>4</td>\n",
       "      <td>Warren Buffett</td>\n",
       "      <td>$67.5 billion</td>\n",
       "      <td>89</td>\n",
       "      <td>United States</td>\n",
       "      <td>Berkshire Hathaway</td>\n",
       "    </tr>\n",
       "    <tr>\n",
       "      <th>4</th>\n",
       "      <td>5</td>\n",
       "      <td>Larry Ellison</td>\n",
       "      <td>$59 billion</td>\n",
       "      <td>75</td>\n",
       "      <td>United States</td>\n",
       "      <td>Oracle Corporation</td>\n",
       "    </tr>\n",
       "    <tr>\n",
       "      <th>5</th>\n",
       "      <td>6</td>\n",
       "      <td>Amancio Ortega</td>\n",
       "      <td>$55.1 billion</td>\n",
       "      <td>84</td>\n",
       "      <td>Spain</td>\n",
       "      <td>Inditex, Zara</td>\n",
       "    </tr>\n",
       "    <tr>\n",
       "      <th>6</th>\n",
       "      <td>7</td>\n",
       "      <td>Mark Zuckerberg</td>\n",
       "      <td>$54.7 billion</td>\n",
       "      <td>35</td>\n",
       "      <td>United States</td>\n",
       "      <td>Facebook</td>\n",
       "    </tr>\n",
       "    <tr>\n",
       "      <th>7</th>\n",
       "      <td>8</td>\n",
       "      <td>Jim Walton</td>\n",
       "      <td>$54.6 billion</td>\n",
       "      <td>71</td>\n",
       "      <td>United States</td>\n",
       "      <td>Walmart</td>\n",
       "    </tr>\n",
       "    <tr>\n",
       "      <th>8</th>\n",
       "      <td>9</td>\n",
       "      <td>Alice Walton</td>\n",
       "      <td>$54.4 billion</td>\n",
       "      <td>70</td>\n",
       "      <td>United States</td>\n",
       "      <td>Walmart</td>\n",
       "    </tr>\n",
       "    <tr>\n",
       "      <th>9</th>\n",
       "      <td>10</td>\n",
       "      <td>S. Robson Walton</td>\n",
       "      <td>$54.1 billion</td>\n",
       "      <td>77</td>\n",
       "      <td>United States</td>\n",
       "      <td>Walmart</td>\n",
       "    </tr>\n",
       "  </tbody>\n",
       "</table>\n",
       "</div>"
      ],
      "text/plain": [
       "   No.                        Name Net worth (USD)  Age    Nationality  \\\n",
       "0    1                  Jeff Bezos    $113 billion   56  United States   \n",
       "1    2                  Bill Gates     $98 billion   64  United States   \n",
       "2    3  Bernard Arnault and family     $76 billion   71         France   \n",
       "3    4              Warren Buffett   $67.5 billion   89  United States   \n",
       "4    5               Larry Ellison     $59 billion   75  United States   \n",
       "5    6              Amancio Ortega   $55.1 billion   84          Spain   \n",
       "6    7             Mark Zuckerberg   $54.7 billion   35  United States   \n",
       "7    8                  Jim Walton   $54.6 billion   71  United States   \n",
       "8    9                Alice Walton   $54.4 billion   70  United States   \n",
       "9   10            S. Robson Walton   $54.1 billion   77  United States   \n",
       "\n",
       "  Source(s) of wealth  \n",
       "0              Amazon  \n",
       "1           Microsoft  \n",
       "2                LVMH  \n",
       "3  Berkshire Hathaway  \n",
       "4  Oracle Corporation  \n",
       "5       Inditex, Zara  \n",
       "6            Facebook  \n",
       "7             Walmart  \n",
       "8             Walmart  \n",
       "9             Walmart  "
      ]
     },
     "execution_count": 5,
     "metadata": {},
     "output_type": "execute_result"
    }
   ],
   "source": [
    "df_list[2]"
   ]
  },
  {
   "cell_type": "markdown",
   "metadata": {},
   "source": [
    "### Set a particular column as index"
   ]
  },
  {
   "cell_type": "code",
   "execution_count": 6,
   "metadata": {},
   "outputs": [
    {
     "data": {
      "text/html": [
       "<div>\n",
       "<style scoped>\n",
       "    .dataframe tbody tr th:only-of-type {\n",
       "        vertical-align: middle;\n",
       "    }\n",
       "\n",
       "    .dataframe tbody tr th {\n",
       "        vertical-align: top;\n",
       "    }\n",
       "\n",
       "    .dataframe thead th {\n",
       "        text-align: right;\n",
       "    }\n",
       "</style>\n",
       "<table border=\"1\" class=\"dataframe\">\n",
       "  <thead>\n",
       "    <tr style=\"text-align: right;\">\n",
       "      <th></th>\n",
       "      <th>No.</th>\n",
       "      <th>Net worth (USD)</th>\n",
       "      <th>Age</th>\n",
       "      <th>Nationality</th>\n",
       "      <th>Source(s) of wealth</th>\n",
       "    </tr>\n",
       "    <tr>\n",
       "      <th>Name</th>\n",
       "      <th></th>\n",
       "      <th></th>\n",
       "      <th></th>\n",
       "      <th></th>\n",
       "      <th></th>\n",
       "    </tr>\n",
       "  </thead>\n",
       "  <tbody>\n",
       "    <tr>\n",
       "      <th>Jeff Bezos</th>\n",
       "      <td>1</td>\n",
       "      <td>$113 billion</td>\n",
       "      <td>56</td>\n",
       "      <td>United States</td>\n",
       "      <td>Amazon</td>\n",
       "    </tr>\n",
       "    <tr>\n",
       "      <th>Bill Gates</th>\n",
       "      <td>2</td>\n",
       "      <td>$98 billion</td>\n",
       "      <td>64</td>\n",
       "      <td>United States</td>\n",
       "      <td>Microsoft</td>\n",
       "    </tr>\n",
       "    <tr>\n",
       "      <th>Bernard Arnault and family</th>\n",
       "      <td>3</td>\n",
       "      <td>$76 billion</td>\n",
       "      <td>71</td>\n",
       "      <td>France</td>\n",
       "      <td>LVMH</td>\n",
       "    </tr>\n",
       "    <tr>\n",
       "      <th>Warren Buffett</th>\n",
       "      <td>4</td>\n",
       "      <td>$67.5 billion</td>\n",
       "      <td>89</td>\n",
       "      <td>United States</td>\n",
       "      <td>Berkshire Hathaway</td>\n",
       "    </tr>\n",
       "    <tr>\n",
       "      <th>Larry Ellison</th>\n",
       "      <td>5</td>\n",
       "      <td>$59 billion</td>\n",
       "      <td>75</td>\n",
       "      <td>United States</td>\n",
       "      <td>Oracle Corporation</td>\n",
       "    </tr>\n",
       "    <tr>\n",
       "      <th>Amancio Ortega</th>\n",
       "      <td>6</td>\n",
       "      <td>$55.1 billion</td>\n",
       "      <td>84</td>\n",
       "      <td>Spain</td>\n",
       "      <td>Inditex, Zara</td>\n",
       "    </tr>\n",
       "    <tr>\n",
       "      <th>Mark Zuckerberg</th>\n",
       "      <td>7</td>\n",
       "      <td>$54.7 billion</td>\n",
       "      <td>35</td>\n",
       "      <td>United States</td>\n",
       "      <td>Facebook</td>\n",
       "    </tr>\n",
       "    <tr>\n",
       "      <th>Jim Walton</th>\n",
       "      <td>8</td>\n",
       "      <td>$54.6 billion</td>\n",
       "      <td>71</td>\n",
       "      <td>United States</td>\n",
       "      <td>Walmart</td>\n",
       "    </tr>\n",
       "    <tr>\n",
       "      <th>Alice Walton</th>\n",
       "      <td>9</td>\n",
       "      <td>$54.4 billion</td>\n",
       "      <td>70</td>\n",
       "      <td>United States</td>\n",
       "      <td>Walmart</td>\n",
       "    </tr>\n",
       "    <tr>\n",
       "      <th>S. Robson Walton</th>\n",
       "      <td>10</td>\n",
       "      <td>$54.1 billion</td>\n",
       "      <td>77</td>\n",
       "      <td>United States</td>\n",
       "      <td>Walmart</td>\n",
       "    </tr>\n",
       "  </tbody>\n",
       "</table>\n",
       "</div>"
      ],
      "text/plain": [
       "                            No. Net worth (USD)  Age    Nationality  \\\n",
       "Name                                                                  \n",
       "Jeff Bezos                    1    $113 billion   56  United States   \n",
       "Bill Gates                    2     $98 billion   64  United States   \n",
       "Bernard Arnault and family    3     $76 billion   71         France   \n",
       "Warren Buffett                4   $67.5 billion   89  United States   \n",
       "Larry Ellison                 5     $59 billion   75  United States   \n",
       "Amancio Ortega                6   $55.1 billion   84          Spain   \n",
       "Mark Zuckerberg               7   $54.7 billion   35  United States   \n",
       "Jim Walton                    8   $54.6 billion   71  United States   \n",
       "Alice Walton                  9   $54.4 billion   70  United States   \n",
       "S. Robson Walton             10   $54.1 billion   77  United States   \n",
       "\n",
       "                           Source(s) of wealth  \n",
       "Name                                            \n",
       "Jeff Bezos                              Amazon  \n",
       "Bill Gates                           Microsoft  \n",
       "Bernard Arnault and family                LVMH  \n",
       "Warren Buffett              Berkshire Hathaway  \n",
       "Larry Ellison               Oracle Corporation  \n",
       "Amancio Ortega                   Inditex, Zara  \n",
       "Mark Zuckerberg                       Facebook  \n",
       "Jim Walton                             Walmart  \n",
       "Alice Walton                           Walmart  \n",
       "S. Robson Walton                       Walmart  "
      ]
     },
     "execution_count": 6,
     "metadata": {},
     "output_type": "execute_result"
    }
   ],
   "source": [
    "pd.read_html(url, index_col=1)[2]"
   ]
  },
  {
   "cell_type": "markdown",
   "metadata": {},
   "source": [
    "### Return tables containing a string or regex"
   ]
  },
  {
   "cell_type": "code",
   "execution_count": 7,
   "metadata": {},
   "outputs": [
    {
     "data": {
      "text/html": [
       "<div>\n",
       "<style scoped>\n",
       "    .dataframe tbody tr th:only-of-type {\n",
       "        vertical-align: middle;\n",
       "    }\n",
       "\n",
       "    .dataframe tbody tr th {\n",
       "        vertical-align: top;\n",
       "    }\n",
       "\n",
       "    .dataframe thead th {\n",
       "        text-align: right;\n",
       "    }\n",
       "</style>\n",
       "<table border=\"1\" class=\"dataframe\">\n",
       "  <thead>\n",
       "    <tr style=\"text-align: right;\">\n",
       "      <th></th>\n",
       "      <th>Year</th>\n",
       "      <th>Number of billionaires</th>\n",
       "      <th>Group's combined net worth</th>\n",
       "    </tr>\n",
       "  </thead>\n",
       "  <tbody>\n",
       "    <tr>\n",
       "      <th>0</th>\n",
       "      <td>2020</td>\n",
       "      <td>2095</td>\n",
       "      <td>$8.0 trillion</td>\n",
       "    </tr>\n",
       "    <tr>\n",
       "      <th>1</th>\n",
       "      <td>2019</td>\n",
       "      <td>2153</td>\n",
       "      <td>$8.7 trillion</td>\n",
       "    </tr>\n",
       "    <tr>\n",
       "      <th>2</th>\n",
       "      <td>2018</td>\n",
       "      <td>2208</td>\n",
       "      <td>$9.1 trillion</td>\n",
       "    </tr>\n",
       "    <tr>\n",
       "      <th>3</th>\n",
       "      <td>2017</td>\n",
       "      <td>2043</td>\n",
       "      <td>$7.7 trillion</td>\n",
       "    </tr>\n",
       "    <tr>\n",
       "      <th>4</th>\n",
       "      <td>2016</td>\n",
       "      <td>1810</td>\n",
       "      <td>$6.5 trillion</td>\n",
       "    </tr>\n",
       "  </tbody>\n",
       "</table>\n",
       "</div>"
      ],
      "text/plain": [
       "   Year Number of billionaires Group's combined net worth\n",
       "0  2020                   2095              $8.0 trillion\n",
       "1  2019                   2153              $8.7 trillion\n",
       "2  2018                   2208              $9.1 trillion\n",
       "3  2017                   2043              $7.7 trillion\n",
       "4  2016                   1810              $6.5 trillion"
      ]
     },
     "execution_count": 7,
     "metadata": {},
     "output_type": "execute_result"
    }
   ],
   "source": [
    "pd.read_html(url, match='Number and combined net worth of billionaires by year')[0].head()"
   ]
  },
  {
   "cell_type": "markdown",
   "metadata": {},
   "source": [
    "### Specify strings to recognize as NA/NaN"
   ]
  },
  {
   "cell_type": "markdown",
   "metadata": {},
   "source": [
    "#### without specifying `na_values`"
   ]
  },
  {
   "cell_type": "code",
   "execution_count": 8,
   "metadata": {},
   "outputs": [
    {
     "data": {
      "text/html": [
       "<div>\n",
       "<style scoped>\n",
       "    .dataframe tbody tr th:only-of-type {\n",
       "        vertical-align: middle;\n",
       "    }\n",
       "\n",
       "    .dataframe tbody tr th {\n",
       "        vertical-align: top;\n",
       "    }\n",
       "\n",
       "    .dataframe thead th {\n",
       "        text-align: right;\n",
       "    }\n",
       "</style>\n",
       "<table border=\"1\" class=\"dataframe\">\n",
       "  <thead>\n",
       "    <tr style=\"text-align: right;\">\n",
       "      <th></th>\n",
       "      <th>0</th>\n",
       "      <th>1</th>\n",
       "    </tr>\n",
       "  </thead>\n",
       "  <tbody>\n",
       "    <tr>\n",
       "      <th>9</th>\n",
       "      <td>Net worth (1st)</td>\n",
       "      <td>US$113 billion</td>\n",
       "    </tr>\n",
       "    <tr>\n",
       "      <th>10</th>\n",
       "      <td>Number of billionaires</td>\n",
       "      <td>2095</td>\n",
       "    </tr>\n",
       "    <tr>\n",
       "      <th>11</th>\n",
       "      <td>Total list net worth value</td>\n",
       "      <td>US$8 trillion</td>\n",
       "    </tr>\n",
       "    <tr>\n",
       "      <th>12</th>\n",
       "      <td>New members to the list</td>\n",
       "      <td>178</td>\n",
       "    </tr>\n",
       "    <tr>\n",
       "      <th>13</th>\n",
       "      <td>Forbes: The World's Billionaires website</td>\n",
       "      <td>Forbes: The World's Billionaires website</td>\n",
       "    </tr>\n",
       "  </tbody>\n",
       "</table>\n",
       "</div>"
      ],
      "text/plain": [
       "                                           0  \\\n",
       "9                            Net worth (1st)   \n",
       "10                    Number of billionaires   \n",
       "11                Total list net worth value   \n",
       "12                   New members to the list   \n",
       "13  Forbes: The World's Billionaires website   \n",
       "\n",
       "                                           1  \n",
       "9                             US$113 billion  \n",
       "10                                      2095  \n",
       "11                             US$8 trillion  \n",
       "12                                       178  \n",
       "13  Forbes: The World's Billionaires website  "
      ]
     },
     "execution_count": 8,
     "metadata": {},
     "output_type": "execute_result"
    }
   ],
   "source": [
    "pd.read_html(url)[0].tail()"
   ]
  },
  {
   "cell_type": "markdown",
   "metadata": {},
   "source": [
    "#### after specifying `na_values`"
   ]
  },
  {
   "cell_type": "code",
   "execution_count": 9,
   "metadata": {},
   "outputs": [
    {
     "data": {
      "text/html": [
       "<div>\n",
       "<style scoped>\n",
       "    .dataframe tbody tr th:only-of-type {\n",
       "        vertical-align: middle;\n",
       "    }\n",
       "\n",
       "    .dataframe tbody tr th {\n",
       "        vertical-align: top;\n",
       "    }\n",
       "\n",
       "    .dataframe thead th {\n",
       "        text-align: right;\n",
       "    }\n",
       "</style>\n",
       "<table border=\"1\" class=\"dataframe\">\n",
       "  <thead>\n",
       "    <tr style=\"text-align: right;\">\n",
       "      <th></th>\n",
       "      <th>0</th>\n",
       "      <th>1</th>\n",
       "    </tr>\n",
       "  </thead>\n",
       "  <tbody>\n",
       "    <tr>\n",
       "      <th>9</th>\n",
       "      <td>Net worth (1st)</td>\n",
       "      <td>US$113 billion</td>\n",
       "    </tr>\n",
       "    <tr>\n",
       "      <th>10</th>\n",
       "      <td>Number of billionaires</td>\n",
       "      <td>2095</td>\n",
       "    </tr>\n",
       "    <tr>\n",
       "      <th>11</th>\n",
       "      <td>Total list net worth value</td>\n",
       "      <td>US$8 trillion</td>\n",
       "    </tr>\n",
       "    <tr>\n",
       "      <th>12</th>\n",
       "      <td>New members to the list</td>\n",
       "      <td>178</td>\n",
       "    </tr>\n",
       "    <tr>\n",
       "      <th>13</th>\n",
       "      <td>NaN</td>\n",
       "      <td>NaN</td>\n",
       "    </tr>\n",
       "  </tbody>\n",
       "</table>\n",
       "</div>"
      ],
      "text/plain": [
       "                             0               1\n",
       "9              Net worth (1st)  US$113 billion\n",
       "10      Number of billionaires            2095\n",
       "11  Total list net worth value   US$8 trillion\n",
       "12     New members to the list             178\n",
       "13                         NaN             NaN"
      ]
     },
     "execution_count": 9,
     "metadata": {},
     "output_type": "execute_result"
    }
   ],
   "source": [
    "pd.read_html(url,na_values=[\"Forbes: The World's Billionaires website\"])[0].tail()"
   ]
  },
  {
   "cell_type": "markdown",
   "metadata": {},
   "source": [
    "### Other parameters"
   ]
  },
  {
   "cell_type": "code",
   "execution_count": 10,
   "metadata": {},
   "outputs": [
    {
     "data": {
      "text/html": [
       "<div>\n",
       "<style scoped>\n",
       "    .dataframe tbody tr th:only-of-type {\n",
       "        vertical-align: middle;\n",
       "    }\n",
       "\n",
       "    .dataframe tbody tr th {\n",
       "        vertical-align: top;\n",
       "    }\n",
       "\n",
       "    .dataframe thead th {\n",
       "        text-align: right;\n",
       "    }\n",
       "</style>\n",
       "<table border=\"1\" class=\"dataframe\">\n",
       "  <thead>\n",
       "    <tr style=\"text-align: right;\">\n",
       "      <th></th>\n",
       "      <th>Publisher</th>\n",
       "      <th>Whale Media InvestmentsForbes family</th>\n",
       "    </tr>\n",
       "  </thead>\n",
       "  <tbody>\n",
       "    <tr>\n",
       "      <th>0</th>\n",
       "      <td>Publication</td>\n",
       "      <td>Forbes</td>\n",
       "    </tr>\n",
       "    <tr>\n",
       "      <th>1</th>\n",
       "      <td>First published</td>\n",
       "      <td>March 1987[1]</td>\n",
       "    </tr>\n",
       "    <tr>\n",
       "      <th>2</th>\n",
       "      <td>Latest publication</td>\n",
       "      <td>April 7, 2020</td>\n",
       "    </tr>\n",
       "    <tr>\n",
       "      <th>3</th>\n",
       "      <td>Current list details (2020)[2]</td>\n",
       "      <td>Current list details (2020)[2]</td>\n",
       "    </tr>\n",
       "    <tr>\n",
       "      <th>4</th>\n",
       "      <td>Wealthiest</td>\n",
       "      <td>Jeff Bezos</td>\n",
       "    </tr>\n",
       "  </tbody>\n",
       "</table>\n",
       "</div>"
      ],
      "text/plain": [
       "                        Publisher Whale Media InvestmentsForbes family\n",
       "0                     Publication                               Forbes\n",
       "1                 First published                        March 1987[1]\n",
       "2              Latest publication                        April 7, 2020\n",
       "3  Current list details (2020)[2]       Current list details (2020)[2]\n",
       "4                      Wealthiest                           Jeff Bezos"
      ]
     },
     "execution_count": 10,
     "metadata": {},
     "output_type": "execute_result"
    }
   ],
   "source": [
    "pd.read_html(url, skiprows=3, header=0)[0].head()"
   ]
  }
 ],
 "metadata": {
  "kernelspec": {
   "display_name": "Python 3",
   "language": "python",
   "name": "python3"
  },
  "language_info": {
   "codemirror_mode": {
    "name": "ipython",
    "version": 3
   },
   "file_extension": ".py",
   "mimetype": "text/x-python",
   "name": "python",
   "nbconvert_exporter": "python",
   "pygments_lexer": "ipython3",
   "version": "3.6.10"
  }
 },
 "nbformat": 4,
 "nbformat_minor": 4
}
