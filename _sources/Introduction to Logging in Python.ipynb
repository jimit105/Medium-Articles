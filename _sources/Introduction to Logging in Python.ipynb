{
 "cells": [
  {
   "cell_type": "markdown",
   "metadata": {},
   "source": [
    "# Introduction to Logging in Python\n",
    "\n",
    "## Medium Link: <https://medium.com/p/a1415d0b8141>"
   ]
  },
  {
   "cell_type": "markdown",
   "metadata": {},
   "source": [
    "```python\n",
    "import logging\n",
    "```"
   ]
  },
  {
   "cell_type": "markdown",
   "metadata": {},
   "source": [
    "## Logging Levels\n",
    "\n",
    "| Level | Value |\n",
    "| -- | -- |\n",
    "| CRITICAL | 50 |\n",
    "| ERROR | 40 |\n",
    "| WARNING | 30 |\n",
    "| INFO | 20 |\n",
    "| DEBUG | 10 |\n",
    "\n",
    "\n",
    "The default level is `WARNING`, which means only the events of this level and above will be logged."
   ]
  },
  {
   "cell_type": "markdown",
   "metadata": {},
   "source": [
    "```python\n",
    "import logging\n",
    "\n",
    "logging.debug('Debug message')\n",
    "logging.info('Info message')\n",
    "logging.warning('Warning message')\n",
    "logging.error('Error message')\n",
    "logging.critical('Critical message')\n",
    "```\n",
    "\n",
    "Output: \n",
    "```python\n",
    "WARNING:root:Warning message\n",
    "ERROR:root:Error message\n",
    "CRITICAL:root:Critical message\n",
    "```"
   ]
  },
  {
   "cell_type": "markdown",
   "metadata": {},
   "source": [
    "## Change Logging Level\n",
    "\n",
    "To change the level of the logger, pass the `level` argument for `basicConfig()`"
   ]
  },
  {
   "cell_type": "markdown",
   "metadata": {},
   "source": [
    "```python\n",
    "import logging\n",
    "\n",
    "logging.basicConfig(level=logging.INFO)\n",
    "logging.debug('Debug message')\n",
    "logging.info('Info message')\n",
    "logging.error('Error message')\n",
    "```\n",
    "\n",
    "Output:\n",
    "```python\n",
    "INFO:root:Info message\n",
    "ERROR:root:Error message\n",
    "```"
   ]
  },
  {
   "cell_type": "markdown",
   "metadata": {},
   "source": [
    "## Log to a file\n",
    "\n",
    "To log the messages to a file, simply pass the name of the file in the `filename` parameter of the `basicConfig()`"
   ]
  },
  {
   "cell_type": "markdown",
   "metadata": {},
   "source": [
    "```python\n",
    "import logging\n",
    "\n",
    "logging.basicConfig(filename='sample.log', level=logging.INFO)\n",
    "logging.debug('Debug message')\n",
    "logging.info('Info message')\n",
    "logging.error('Error message')\n",
    "```\n",
    "\n",
    "The contents of the file would be:\n",
    "```python\n",
    "INFO:root:Info message\n",
    "ERROR:root:Error message\n",
    "```"
   ]
  },
  {
   "cell_type": "markdown",
   "metadata": {},
   "source": [
    "## Change logging Format\n",
    "\n",
    "To change the default format, we need to specify the `format` parameter in the `basicConfig()`"
   ]
  },
  {
   "cell_type": "markdown",
   "metadata": {},
   "source": [
    "```python\n",
    "FORMAT = '%(asctime)s:%(name)s:%(levelname)s - %(message)s'\n",
    "\n",
    "logging.basicConfig(format=FORMAT, level=logging.INFO)\n",
    "logging.info('Info message')\n",
    "```\n",
    "\n",
    "The corresponding output would be:\n",
    "```python\n",
    "2020-07-03 00:48:00,106:root:INFO - Info message\n",
    "```"
   ]
  },
  {
   "cell_type": "markdown",
   "metadata": {},
   "source": [
    "## Change date format\n",
    "\n",
    "To change the date format displayed in the logs, we need to change the `datefmt` parameter"
   ]
  },
  {
   "cell_type": "markdown",
   "metadata": {},
   "source": [
    "```python\n",
    "FORMAT = '%(asctime)s:%(name)s:%(levelname)s - %(message)s'\n",
    "\n",
    "logging.basicConfig(format=FORMAT, \n",
    "                    level=logging.INFO, \n",
    "                    datefmt='%Y-%b-%d %X%z')\n",
    "logging.info('Info message')\n",
    "```\n",
    "\n",
    "Output:\n",
    "```python\n",
    "2020-Jul-03 00:56:31+0530:root:INFO - Info message\n",
    "```"
   ]
  },
  {
   "cell_type": "markdown",
   "metadata": {},
   "source": [
    "## Logging for exceptions"
   ]
  },
  {
   "cell_type": "markdown",
   "metadata": {},
   "source": [
    "### Example-1: with logging.error\n",
    "```python\n",
    "try:\n",
    "    5/0\n",
    "except:\n",
    "    logging.error('Exception occured')\n",
    "```\n",
    "\n",
    "Output:\n",
    "```python\n",
    "ERROR:root:Exception occured\n",
    "```\n",
    "\n",
    "### Example-2: with logging.error and exc_info=True\n",
    "```python\n",
    "try:\n",
    "    5/0\n",
    "except:\n",
    "    logging.error('Exception occured', exc_info=True)\n",
    "```\n",
    "\n",
    "Output:\n",
    "```python\n",
    "ERROR:root:Exception occured\n",
    "Traceback (most recent call last):\n",
    "  File \"<ipython-input-2-933e0f6b1879>\", line 11, in <module>\n",
    "    5/0\n",
    "ZeroDivisionError: division by zero\n",
    "```\n",
    "\n",
    "### Example-3: with logging.exception\n",
    "```python\n",
    "try:\n",
    "    5/0\n",
    "except:\n",
    "    logging.exception('Exception occured')\n",
    "```\n",
    "\n",
    "Output:\n",
    "```python\n",
    "ERROR:root:Exception occured\n",
    "Traceback (most recent call last):\n",
    "  File \"<ipython-input-3-e7d1d57e6056>\", line 11, in <module>\n",
    "    5/0\n",
    "ZeroDivisionError: division by zero\n",
    "```"
   ]
  }
 ],
 "metadata": {
  "kernelspec": {
   "display_name": "Python 3",
   "language": "python",
   "name": "python3"
  },
  "language_info": {
   "codemirror_mode": {
    "name": "ipython",
    "version": 3
   },
   "file_extension": ".py",
   "mimetype": "text/x-python",
   "name": "python",
   "nbconvert_exporter": "python",
   "pygments_lexer": "ipython3",
   "version": "3.6.10"
  }
 },
 "nbformat": 4,
 "nbformat_minor": 4
}
