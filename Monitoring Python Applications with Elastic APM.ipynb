{
 "cells": [
  {
   "cell_type": "markdown",
   "metadata": {},
   "source": [
    "# Monitoring Python Applications with Elastic APM"
   ]
  },
  {
   "cell_type": "markdown",
   "metadata": {},
   "source": [
    "## Medium Link: <https://medium.com/p/33237a39d7b6>"
   ]
  },
  {
   "cell_type": "markdown",
   "metadata": {},
   "source": [
    "## Monitoring Flask / Flask-RESTPlus Applications"
   ]
  },
  {
   "cell_type": "markdown",
   "metadata": {},
   "source": [
    "### Installation"
   ]
  },
  {
   "cell_type": "markdown",
   "metadata": {},
   "source": [
    "```bash\n",
    "pip install elastic-apm[flask]\n",
    "```"
   ]
  },
  {
   "cell_type": "markdown",
   "metadata": {},
   "source": [
    "### Implementation"
   ]
  },
  {
   "cell_type": "markdown",
   "metadata": {},
   "source": [
    "```python\n",
    "from flask import Flask\n",
    "from elasticapm.contrib.flask import ElasticAPM\n",
    "import elasticapm\n",
    "\n",
    "server_url = 'http://localhost:8200'\n",
    "service_name = 'DemoFlask'\n",
    "environment = 'dev'\n",
    "\n",
    "app = Flask(__name__)\n",
    "apm = ElasticAPM(app, server_url=server_url, service_name=service_name, environment=environment)\n",
    "\n",
    "\n",
    "@app.before_request\n",
    "def apm_log():\n",
    "    elasticapm.label(platform = 'DemoPlatform',\n",
    "                     application = 'DemoApplication')\n",
    "\n",
    "\n",
    "@app.route('/hello-world/')\n",
    "def helloWorld():\n",
    "\treturn \"Hello World\"\n",
    "\n",
    "\n",
    "app.run()\n",
    "```"
   ]
  },
  {
   "cell_type": "markdown",
   "metadata": {},
   "source": [
    "## Monitoring FastAPI Applications"
   ]
  },
  {
   "cell_type": "markdown",
   "metadata": {},
   "source": [
    "### Installation"
   ]
  },
  {
   "cell_type": "markdown",
   "metadata": {},
   "source": [
    "```bash\n",
    "pip install elastic-apm\n",
    "```"
   ]
  },
  {
   "cell_type": "markdown",
   "metadata": {},
   "source": [
    "### Implementation"
   ]
  },
  {
   "cell_type": "markdown",
   "metadata": {},
   "source": [
    "```python\n",
    "import uvicorn\n",
    "from fastapi import FastAPI\n",
    "\n",
    "from elasticapm.contrib.starlette import make_apm_client, ElasticAPM\n",
    "\n",
    "\n",
    "apm_config = {\n",
    "\t'SERVICE_NAME': 'DemoFastAPI',\n",
    "\t'SERVER_URL': 'http://localhost:8200',\n",
    "\t'ENVIRONMENT': 'dev',\n",
    "\t'GLOBAL_LABELS': 'platform=DemoPlatform, application=DemoApplication'\n",
    "}\n",
    "\n",
    "apm = make_apm_client(apm_config)\n",
    "\n",
    "app = FastAPI()\n",
    "app.add_middleware(ElasticAPM, client=apm)\n",
    "\n",
    "\n",
    "@app.get('/hello-world/')\n",
    "def hello_world():\n",
    "\treturn \"Hello World\"\n",
    "\n",
    "\n",
    "uvicorn.run(app)\n",
    "```"
   ]
  },
  {
   "cell_type": "markdown",
   "metadata": {},
   "source": [
    "## Monitoring Python Applications"
   ]
  },
  {
   "cell_type": "markdown",
   "metadata": {},
   "source": [
    "### Installation"
   ]
  },
  {
   "cell_type": "markdown",
   "metadata": {},
   "source": [
    "```bash\n",
    "pip install elastic-apm\n",
    "```"
   ]
  },
  {
   "cell_type": "markdown",
   "metadata": {},
   "source": [
    "### Implementation"
   ]
  },
  {
   "cell_type": "markdown",
   "metadata": {},
   "source": [
    "```python\n",
    "import time\n",
    "from apscheduler.schedulers.background import BackgroundScheduler\n",
    "\n",
    "from elasticapm import Client\n",
    "import elasticapm\n",
    "\n",
    "client = Client(\n",
    "    {'SERVICE_NAME': 'DemoPython',\n",
    "     'SERVER_URL': 'http://localhost:8200',\n",
    "     'ENVIRONMENT': 'dev'}\n",
    ")\n",
    "\n",
    "elasticapm.instrumentation.control.instrument()\n",
    "\n",
    "def hello_world():\n",
    "\tclient.begin_transaction('schedule')\n",
    "\telasticapm.label(platform='DemoPlatform', application='DemoApplication')\n",
    "\n",
    "\tprint(\"Hello World\")\n",
    "\n",
    "\tclient.end_transaction('demo-transaction', 'success')\n",
    "\n",
    "\n",
    "if __name__ == \"__main__\":\n",
    "\tscheduler = BackgroundScheduler()\n",
    "\tscheduler.add_job(hello_world, 'interval', seconds=5)\n",
    "\tscheduler.start()\n",
    "\tprint('Started scheduler..')\n",
    "\tprint('Press Ctrl+C to exit')\n",
    "\ttry:\n",
    "\t\t# Necessary to simulate application activity (which keeps the main thread alive).\n",
    "\t\twhile True:\n",
    "\t\t\ttime.sleep(2)\n",
    "\texcept (KeyboardInterrupt, SystemExit):\n",
    "\t\tprint('Shutting down scheduler')\n",
    "\t\tscheduler.shutdown()\n",
    "```"
   ]
  },
  {
   "cell_type": "code",
   "execution_count": null,
   "metadata": {},
   "outputs": [],
   "source": []
  }
 ],
 "metadata": {
  "kernelspec": {
   "display_name": "Python 3",
   "language": "python",
   "name": "python3"
  },
  "language_info": {
   "codemirror_mode": {
    "name": "ipython",
    "version": 3
   },
   "file_extension": ".py",
   "mimetype": "text/x-python",
   "name": "python",
   "nbconvert_exporter": "python",
   "pygments_lexer": "ipython3",
   "version": "3.8.5"
  }
 },
 "nbformat": 4,
 "nbformat_minor": 4
}
